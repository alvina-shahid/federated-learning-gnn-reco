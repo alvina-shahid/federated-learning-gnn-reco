{
 "cells": [
  {
   "cell_type": "code",
   "id": "initial_id",
   "metadata": {
    "collapsed": true,
    "ExecuteTime": {
     "end_time": "2025-01-12T21:20:58.765284Z",
     "start_time": "2025-01-12T21:20:58.761379Z"
    }
   },
   "source": [
    "# import required modules\n",
    "import random\n",
    "from tqdm.notebook import tqdm\n",
    "import pandas as pd\n",
    "import numpy as np\n",
    "import matplotlib.pyplot as plt\n",
    "from sklearn.model_selection import train_test_split\n",
    "from sklearn import model_selection, metrics, preprocessing\n",
    "import copy\n",
    "from torch_geometric.utils import degree\n",
    "\n",
    "import torch\n",
    "from torch import nn, optim, Tensor\n",
    "\n",
    "from torch_sparse import SparseTensor, matmul\n",
    "\n",
    "from torch_geometric.utils import structured_negative_sampling\n",
    "from torch_geometric.data import download_url, extract_zip\n",
    "from torch_geometric.nn.conv.gcn_conv import gcn_norm\n",
    "from torch_geometric.nn.conv import MessagePassing\n",
    "from torch_geometric.typing import Adj"
   ],
   "outputs": [],
   "execution_count": 68
  },
  {
   "metadata": {
    "ExecuteTime": {
     "end_time": "2025-01-12T21:20:58.799777Z",
     "start_time": "2025-01-12T21:20:58.776385Z"
    }
   },
   "cell_type": "code",
   "source": [
    "# download the dataset\n",
    "# https://grouplens.org/datasets/movielens/\n",
    "# \"Small: 100,000 ratings and 3,600 tag applications applied to 9,000 movies by 600 users. Last updated 9/2018\"\n",
    "url = 'https://files.grouplens.org/datasets/movielens/ml-latest-small.zip'\n",
    "extract_zip(download_url(url, '.'), '.')\n",
    "\n",
    "movie_path = './ml-latest-small/movies.csv'\n",
    "rating_path = './ml-latest-small/ratings.csv'\n",
    "user_path = './ml-latest-small/users.csv'"
   ],
   "id": "253e5f45a502abe",
   "outputs": [
    {
     "name": "stderr",
     "output_type": "stream",
     "text": [
      "Using existing file ml-latest-small.zip\n",
      "Extracting ./ml-latest-small.zip\n"
     ]
    }
   ],
   "execution_count": 69
  },
  {
   "metadata": {
    "ExecuteTime": {
     "end_time": "2025-01-12T21:20:58.855940Z",
     "start_time": "2025-01-12T21:20:58.818969Z"
    }
   },
   "cell_type": "code",
   "source": [
    "rating_df = pd.read_csv(rating_path)\n",
    "\n",
    "print(rating_df.head())\n",
    "\n",
    "print(len(rating_df['movieId'].unique()))\n",
    "print(len(rating_df['userId'].unique()))\n",
    "\n",
    "rating_df.describe()"
   ],
   "id": "cb77185221719753",
   "outputs": [
    {
     "name": "stdout",
     "output_type": "stream",
     "text": [
      "   userId  movieId  rating  timestamp\n",
      "0       1        1     4.0  964982703\n",
      "1       1        3     4.0  964981247\n",
      "2       1        6     4.0  964982224\n",
      "3       1       47     5.0  964983815\n",
      "4       1       50     5.0  964982931\n",
      "9724\n",
      "610\n"
     ]
    },
    {
     "data": {
      "text/plain": [
       "              userId        movieId         rating     timestamp\n",
       "count  100836.000000  100836.000000  100836.000000  1.008360e+05\n",
       "mean      326.127564   19435.295718       3.501557  1.205946e+09\n",
       "std       182.618491   35530.987199       1.042529  2.162610e+08\n",
       "min         1.000000       1.000000       0.500000  8.281246e+08\n",
       "25%       177.000000    1199.000000       3.000000  1.019124e+09\n",
       "50%       325.000000    2991.000000       3.500000  1.186087e+09\n",
       "75%       477.000000    8122.000000       4.000000  1.435994e+09\n",
       "max       610.000000  193609.000000       5.000000  1.537799e+09"
      ],
      "text/html": [
       "<div>\n",
       "<style scoped>\n",
       "    .dataframe tbody tr th:only-of-type {\n",
       "        vertical-align: middle;\n",
       "    }\n",
       "\n",
       "    .dataframe tbody tr th {\n",
       "        vertical-align: top;\n",
       "    }\n",
       "\n",
       "    .dataframe thead th {\n",
       "        text-align: right;\n",
       "    }\n",
       "</style>\n",
       "<table border=\"1\" class=\"dataframe\">\n",
       "  <thead>\n",
       "    <tr style=\"text-align: right;\">\n",
       "      <th></th>\n",
       "      <th>userId</th>\n",
       "      <th>movieId</th>\n",
       "      <th>rating</th>\n",
       "      <th>timestamp</th>\n",
       "    </tr>\n",
       "  </thead>\n",
       "  <tbody>\n",
       "    <tr>\n",
       "      <th>count</th>\n",
       "      <td>100836.000000</td>\n",
       "      <td>100836.000000</td>\n",
       "      <td>100836.000000</td>\n",
       "      <td>1.008360e+05</td>\n",
       "    </tr>\n",
       "    <tr>\n",
       "      <th>mean</th>\n",
       "      <td>326.127564</td>\n",
       "      <td>19435.295718</td>\n",
       "      <td>3.501557</td>\n",
       "      <td>1.205946e+09</td>\n",
       "    </tr>\n",
       "    <tr>\n",
       "      <th>std</th>\n",
       "      <td>182.618491</td>\n",
       "      <td>35530.987199</td>\n",
       "      <td>1.042529</td>\n",
       "      <td>2.162610e+08</td>\n",
       "    </tr>\n",
       "    <tr>\n",
       "      <th>min</th>\n",
       "      <td>1.000000</td>\n",
       "      <td>1.000000</td>\n",
       "      <td>0.500000</td>\n",
       "      <td>8.281246e+08</td>\n",
       "    </tr>\n",
       "    <tr>\n",
       "      <th>25%</th>\n",
       "      <td>177.000000</td>\n",
       "      <td>1199.000000</td>\n",
       "      <td>3.000000</td>\n",
       "      <td>1.019124e+09</td>\n",
       "    </tr>\n",
       "    <tr>\n",
       "      <th>50%</th>\n",
       "      <td>325.000000</td>\n",
       "      <td>2991.000000</td>\n",
       "      <td>3.500000</td>\n",
       "      <td>1.186087e+09</td>\n",
       "    </tr>\n",
       "    <tr>\n",
       "      <th>75%</th>\n",
       "      <td>477.000000</td>\n",
       "      <td>8122.000000</td>\n",
       "      <td>4.000000</td>\n",
       "      <td>1.435994e+09</td>\n",
       "    </tr>\n",
       "    <tr>\n",
       "      <th>max</th>\n",
       "      <td>610.000000</td>\n",
       "      <td>193609.000000</td>\n",
       "      <td>5.000000</td>\n",
       "      <td>1.537799e+09</td>\n",
       "    </tr>\n",
       "  </tbody>\n",
       "</table>\n",
       "</div>"
      ]
     },
     "execution_count": 70,
     "metadata": {},
     "output_type": "execute_result"
    }
   ],
   "execution_count": 70
  },
  {
   "metadata": {
    "ExecuteTime": {
     "end_time": "2025-01-12T21:20:58.897895Z",
     "start_time": "2025-01-12T21:20:58.888638Z"
    }
   },
   "cell_type": "code",
   "source": [
    "# perform encoding preprocessing to ensure that user_id and item_id are both \n",
    "# in the range of [0, unique_count] so it won't cause out of bound issue when indexing embeddings\n",
    "lbl_user = preprocessing.LabelEncoder()\n",
    "lbl_movie = preprocessing.LabelEncoder()\n",
    "\n",
    "rating_df.userId = lbl_user.fit_transform(rating_df.userId.values)\n",
    "rating_df.movieId = lbl_movie.fit_transform(rating_df.movieId.values)"
   ],
   "id": "94a3805c86dcb13f",
   "outputs": [],
   "execution_count": 71
  },
  {
   "metadata": {
    "ExecuteTime": {
     "end_time": "2025-01-12T21:20:58.939666Z",
     "start_time": "2025-01-12T21:20:58.936716Z"
    }
   },
   "cell_type": "code",
   "source": [
    "print(rating_df.userId.max())\n",
    "print(rating_df.movieId.max())"
   ],
   "id": "66ee2f55ef757bab",
   "outputs": [
    {
     "name": "stdout",
     "output_type": "stream",
     "text": [
      "609\n",
      "9723\n"
     ]
    }
   ],
   "execution_count": 72
  },
  {
   "metadata": {
    "ExecuteTime": {
     "end_time": "2025-01-12T21:20:58.983971Z",
     "start_time": "2025-01-12T21:20:58.979938Z"
    }
   },
   "cell_type": "code",
   "source": "rating_df.rating.value_counts()",
   "id": "13c91662986189e7",
   "outputs": [
    {
     "data": {
      "text/plain": [
       "rating\n",
       "4.0    26818\n",
       "3.0    20047\n",
       "5.0    13211\n",
       "3.5    13136\n",
       "4.5     8551\n",
       "2.0     7551\n",
       "2.5     5550\n",
       "1.0     2811\n",
       "1.5     1791\n",
       "0.5     1370\n",
       "Name: count, dtype: int64"
      ]
     },
     "execution_count": 73,
     "metadata": {},
     "output_type": "execute_result"
    }
   ],
   "execution_count": 73
  },
  {
   "metadata": {
    "ExecuteTime": {
     "end_time": "2025-01-12T21:52:21.263199Z",
     "start_time": "2025-01-12T21:52:21.257531Z"
    }
   },
   "cell_type": "code",
   "source": [
    "# load edges between users and movies\n",
    "def load_edge_csv(df, \n",
    "                  src_index_col, \n",
    "                  dst_index_col, \n",
    "                  link_index_col, \n",
    "                  rating_threshold=3):\n",
    "    \"\"\"Loads csv containing edges between users and items\n",
    "\n",
    "    Args:\n",
    "        src_index_col (str): column name of users\n",
    "        dst_index_col (str): column name of items\n",
    "        link_index_col (str): column name of user item interaction\n",
    "        rating_threshold (int, optional): Threshold to determine positivity of edge. Defaults to 4.\n",
    "\n",
    "    Returns:\n",
    "        list of list: edge_index -- 2 by N matrix containing the node ids of N user-item edges\n",
    "        N here is the number of interactions\n",
    "    \"\"\"\n",
    "    \n",
    "    edge_index = None\n",
    "    \n",
    "    # Constructing COO format edge_index from input rating events\n",
    "    \n",
    "    # get user_ids from rating events in the order of occurance\n",
    "    src = [user_id for user_id in df['userId']]\n",
    "    # get movie_id from rating events in the order of occurance\n",
    "    dst = [(movie_id) for movie_id in df['movieId']]\n",
    "\n",
    "    # apply rating threshold\n",
    "    edge_attr = torch.from_numpy(df[link_index_col].values).view(-1, 1).to(torch.long) >= rating_threshold\n",
    "    # print(edge_attr)\n",
    "    # print(edge_attr.shape)\n",
    "\n",
    "    edge_index = [[], []]\n",
    "    for i in range(edge_attr.shape[0]):\n",
    "        if edge_attr[i]:\n",
    "            edge_index[0].append(src[i])\n",
    "            edge_index[1].append(dst[i])\n",
    "    return edge_index"
   ],
   "id": "51ce375ba1bacb7b",
   "outputs": [],
   "execution_count": 115
  },
  {
   "metadata": {
    "ExecuteTime": {
     "end_time": "2025-01-12T21:52:31.169232Z",
     "start_time": "2025-01-12T21:52:31.058267Z"
    }
   },
   "cell_type": "code",
   "source": [
    "edge_index = load_edge_csv(\n",
    "    rating_df,\n",
    "    src_index_col='userId',\n",
    "    dst_index_col='movieId',\n",
    "    link_index_col='rating',\n",
    "    rating_threshold=3.5, \n",
    ")\n",
    "\n",
    "print(f\"{len(edge_index)} x {len(edge_index[0])}\")"
   ],
   "id": "b3a477c5cfd4ead5",
   "outputs": [
    {
     "name": "stdout",
     "output_type": "stream",
     "text": [
      "2 x 48580\n"
     ]
    }
   ],
   "execution_count": 117
  },
  {
   "metadata": {
    "ExecuteTime": {
     "end_time": "2025-01-12T21:52:28.797724Z",
     "start_time": "2025-01-12T21:52:28.795795Z"
    }
   },
   "cell_type": "code",
   "source": [
    "# type(edge_index)\n",
    "# print(edge_index)\n",
    "# torch.from_numpy(rating_df['rating'].values).view(-1, 1).to(torch.long) >= 3.5"
   ],
   "id": "9db1fc7065050a9f",
   "outputs": [],
   "execution_count": 116
  },
  {
   "metadata": {
    "ExecuteTime": {
     "end_time": "2025-01-12T21:20:59.193585Z",
     "start_time": "2025-01-12T21:20:59.185456Z"
    }
   },
   "cell_type": "code",
   "source": [
    "# Convert to tensor\n",
    "# We use LongTensor here because the .propagate() method in the model needs either LongTensor or SparseTensor\n",
    "edge_index = torch.LongTensor(edge_index)\n",
    "print(edge_index)\n",
    "print(edge_index.size())"
   ],
   "id": "fc752ad15ea0d7ac",
   "outputs": [
    {
     "name": "stdout",
     "output_type": "stream",
     "text": [
      "tensor([[   0,    0,    0,  ...,  609,  609,  609],\n",
      "        [   0,    2,    5,  ..., 9443, 9444, 9445]])\n",
      "torch.Size([2, 48580])\n"
     ]
    }
   ],
   "execution_count": 77
  },
  {
   "metadata": {
    "ExecuteTime": {
     "end_time": "2025-01-12T21:20:59.214173Z",
     "start_time": "2025-01-12T21:20:59.209582Z"
    }
   },
   "cell_type": "code",
   "source": [
    "x = torch.randn(4, 4)\n",
    "print(x)\n",
    "print(x.size())\n",
    "y = x.view(-1, 1)\n",
    "print(\"y size\", y.size())\n",
    "print(\"y\", y)\n",
    "z = x.view(-1, 8)  # the size -1 is inferred from other dimensions\n",
    "z.size()\n"
   ],
   "id": "74288c118b4fde3b",
   "outputs": [
    {
     "name": "stdout",
     "output_type": "stream",
     "text": [
      "tensor([[-0.5473, -0.4505, -1.5112,  0.2376],\n",
      "        [-0.9102,  0.7740, -1.3824,  2.0454],\n",
      "        [-0.7785, -0.0767,  0.9234, -0.7761],\n",
      "        [ 0.3835, -0.2440, -0.7694,  0.5259]])\n",
      "torch.Size([4, 4])\n",
      "y size torch.Size([16, 1])\n",
      "y tensor([[-0.5473],\n",
      "        [-0.4505],\n",
      "        [-1.5112],\n",
      "        [ 0.2376],\n",
      "        [-0.9102],\n",
      "        [ 0.7740],\n",
      "        [-1.3824],\n",
      "        [ 2.0454],\n",
      "        [-0.7785],\n",
      "        [-0.0767],\n",
      "        [ 0.9234],\n",
      "        [-0.7761],\n",
      "        [ 0.3835],\n",
      "        [-0.2440],\n",
      "        [-0.7694],\n",
      "        [ 0.5259]])\n"
     ]
    },
    {
     "data": {
      "text/plain": [
       "torch.Size([2, 8])"
      ]
     },
     "execution_count": 78,
     "metadata": {},
     "output_type": "execute_result"
    }
   ],
   "execution_count": 78
  },
  {
   "metadata": {
    "ExecuteTime": {
     "end_time": "2025-01-12T21:20:59.232205Z",
     "start_time": "2025-01-12T21:20:59.229051Z"
    }
   },
   "cell_type": "code",
   "source": [
    "# Note: this is the total num_users and num_movies before we apply the rating_threshold\n",
    "num_users = len(rating_df['userId'].unique())\n",
    "num_movies = len(rating_df['movieId'].unique())"
   ],
   "id": "85865d5627fc2209",
   "outputs": [],
   "execution_count": 79
  },
  {
   "metadata": {
    "ExecuteTime": {
     "end_time": "2025-01-12T21:20:59.274016Z",
     "start_time": "2025-01-12T21:20:59.261059Z"
    }
   },
   "cell_type": "code",
   "source": [
    "num_interactions = edge_index.shape[1]\n",
    "\n",
    "# split the edges of the graph using a 80/10/10 train/validation/test split\n",
    "all_indices = [i for i in range(num_interactions)]\n",
    "\n",
    "train_indices, test_indices = train_test_split(all_indices, \n",
    "                                               test_size=0.2,\n",
    "                                               random_state=1)\n",
    "\n",
    "val_indices, test_indices = train_test_split(test_indices, \n",
    "                                             test_size=0.5,\n",
    "                                             random_state=1)\n",
    "\n",
    "train_edge_index = edge_index[:, train_indices]\n",
    "val_edge_index = edge_index[:, val_indices]\n",
    "test_edge_index = edge_index[:, test_indices]"
   ],
   "id": "42d3c7720407cfd8",
   "outputs": [],
   "execution_count": 80
  },
  {
   "metadata": {
    "ExecuteTime": {
     "end_time": "2025-01-12T21:20:59.284400Z",
     "start_time": "2025-01-12T21:20:59.277952Z"
    }
   },
   "cell_type": "code",
   "source": [
    "print(f\"num_users {num_users}, num_movies {num_movies}, num_interactions {num_interactions}\")\n",
    "print(f\"train_edge_index {train_edge_index}\")\n",
    "print((num_users + num_movies))\n",
    "print(torch.unique(train_edge_index[0]).size())\n",
    "print(torch.unique(train_edge_index[1]).size())"
   ],
   "id": "849d421a3f7d82d5",
   "outputs": [
    {
     "name": "stdout",
     "output_type": "stream",
     "text": [
      "num_users 610, num_movies 9724, num_interactions 48580\n",
      "train_edge_index tensor([[ 605,  110,  442,  ...,   65,  161,  427],\n",
      "        [1110, 9619, 1283,  ..., 4640,  443,  827]])\n",
      "10334\n",
      "torch.Size([609])\n",
      "torch.Size([5676])\n"
     ]
    }
   ],
   "execution_count": 81
  },
  {
   "metadata": {
    "ExecuteTime": {
     "end_time": "2025-01-12T21:20:59.301492Z",
     "start_time": "2025-01-12T21:20:59.298922Z"
    }
   },
   "cell_type": "code",
   "source": [
    "def convert_r_mat_edge_index_to_adj_mat_edge_index(input_edge_index):\n",
    "    R = torch.zeros((num_users, num_movies))\n",
    "    for i in range(len(input_edge_index[0])):\n",
    "        row_idx = input_edge_index[0][i]\n",
    "        col_idx = input_edge_index[1][i]\n",
    "        R[row_idx][col_idx] = 1\n",
    "\n",
    "    R_transpose = torch.transpose(R, 0, 1)\n",
    "    adj_mat = torch.zeros((num_users + num_movies , num_users + num_movies))\n",
    "    adj_mat[: num_users, num_users :] = R.clone()\n",
    "    adj_mat[num_users :, : num_users] = R_transpose.clone()\n",
    "    adj_mat_coo = adj_mat.to_sparse_coo()\n",
    "    adj_mat_coo = adj_mat_coo.indices()\n",
    "    return adj_mat_coo"
   ],
   "id": "5601febc9b7e5e4b",
   "outputs": [],
   "execution_count": 82
  },
  {
   "metadata": {
    "ExecuteTime": {
     "end_time": "2025-01-12T21:20:59.316671Z",
     "start_time": "2025-01-12T21:20:59.314533Z"
    }
   },
   "cell_type": "code",
   "source": [
    "def convert_adj_mat_edge_index_to_r_mat_edge_index(input_edge_index):\n",
    "    sparse_input_edge_index = SparseTensor(row=input_edge_index[0], \n",
    "                                           col=input_edge_index[1], \n",
    "                                           sparse_sizes=((num_users + num_movies), num_users + num_movies))\n",
    "    adj_mat = sparse_input_edge_index.to_dense()\n",
    "    interact_mat = adj_mat[: num_users, num_users :]\n",
    "    r_mat_edge_index = interact_mat.to_sparse_coo().indices()\n",
    "    return r_mat_edge_index"
   ],
   "id": "e3f76190cc471244",
   "outputs": [],
   "execution_count": 83
  },
  {
   "metadata": {
    "ExecuteTime": {
     "end_time": "2025-01-12T21:20:59.835455Z",
     "start_time": "2025-01-12T21:20:59.329548Z"
    }
   },
   "cell_type": "code",
   "source": [
    "# convert from r_mat (interaction matrix) edge index to adjescency matrix's edge index \n",
    "# so we can feed it to model\n",
    "train_edge_index = convert_r_mat_edge_index_to_adj_mat_edge_index(train_edge_index)\n",
    "val_edge_index = convert_r_mat_edge_index_to_adj_mat_edge_index(val_edge_index)\n",
    "test_edge_index = convert_r_mat_edge_index_to_adj_mat_edge_index(test_edge_index)"
   ],
   "id": "8b01fec08314d240",
   "outputs": [],
   "execution_count": 84
  },
  {
   "metadata": {
    "ExecuteTime": {
     "end_time": "2025-01-12T21:20:59.852246Z",
     "start_time": "2025-01-12T21:20:59.848812Z"
    }
   },
   "cell_type": "code",
   "source": [
    "print(train_edge_index)\n",
    "print(train_edge_index.size())\n",
    "print(val_edge_index)\n",
    "print(val_edge_index.size())\n",
    "print(test_edge_index)\n",
    "print(test_edge_index.size())"
   ],
   "id": "b8ed9ebc8fa6ab31",
   "outputs": [
    {
     "name": "stdout",
     "output_type": "stream",
     "text": [
      "tensor([[    0,     0,     0,  ..., 10326, 10327, 10333],\n",
      "        [  610,   612,   653,  ...,   183,   183,   330]])\n",
      "torch.Size([2, 77728])\n",
      "tensor([[    0,     0,     0,  ..., 10226, 10236, 10240],\n",
      "        [  615,   794,  2010,  ...,   317,   204,   413]])\n",
      "torch.Size([2, 9716])\n",
      "tensor([[    0,     0,     0,  ..., 10301, 10302, 10329],\n",
      "        [  811,  1086,  1095,  ...,   585,   585,   183]])\n",
      "torch.Size([2, 9716])\n"
     ]
    }
   ],
   "execution_count": 85
  },
  {
   "metadata": {
    "ExecuteTime": {
     "end_time": "2025-01-12T21:20:59.869502Z",
     "start_time": "2025-01-12T21:20:59.866901Z"
    }
   },
   "cell_type": "code",
   "source": [
    "# helper function for training and compute BPR loss\n",
    "# since this is a self-supervised learning, we are relying on the graph structure itself and \n",
    "# we don't have label other than the graph structure so we need to the folloing function\n",
    "# which random samples a mini-batch of positive and negative samples\n",
    "def sample_mini_batch(batch_size, edge_index):\n",
    "    \"\"\"Randomly samples indices of a minibatch given an adjacency matrix\n",
    "\n",
    "    Args:\n",
    "        batch_size (int): minibatch size\n",
    "        edge_index (torch.Tensor): 2 by N list of edges\n",
    "\n",
    "    Returns:\n",
    "        tuple: user indices, positive item indices, negative item indices\n",
    "    \"\"\"\n",
    "    # structured_negative_sampling is a pyG library\n",
    "    # Samples a negative edge :obj:`(i,k)` for every positive edge\n",
    "    # :obj:`(i,j)` in the graph given by :attr:`edge_index`, and returns it as a\n",
    "    # tuple of the form :obj:`(i,j,k)`.\n",
    "    #\n",
    "    #         >>> edge_index = torch.as_tensor([[0, 0, 1, 2],\n",
    "    #         ...                               [0, 1, 2, 3]])\n",
    "    #         >>> structured_negative_sampling(edge_index)\n",
    "    #         (tensor([0, 0, 1, 2]), tensor([0, 1, 2, 3]), tensor([2, 3, 0, 2]))\n",
    "    edges = structured_negative_sampling(edge_index)\n",
    "    \n",
    "    # 3 x edge_index_len\n",
    "    edges = torch.stack(edges, dim=0)\n",
    "    \n",
    "    # here is whhen we actually perform the batch sampe\n",
    "    # Return a k sized list of population elements chosen with replacement.\n",
    "    indices = random.choices([i for i in range(edges[0].shape[0])], k=batch_size)\n",
    "    \n",
    "    batch = edges[:, indices]\n",
    "    \n",
    "    user_indices, pos_item_indices, neg_item_indices = batch[0], batch[1], batch[2]\n",
    "    return user_indices, pos_item_indices, neg_item_indices"
   ],
   "id": "23fd5468754cefd8",
   "outputs": [],
   "execution_count": 86
  },
  {
   "metadata": {
    "ExecuteTime": {
     "end_time": "2025-01-12T21:20:59.904035Z",
     "start_time": "2025-01-12T21:20:59.882863Z"
    }
   },
   "cell_type": "code",
   "source": [
    "# defines LightGCN model \n",
    "class LightGCN(MessagePassing):\n",
    "    \"\"\"LightGCN Model as proposed in https://arxiv.org/abs/2002.02126\n",
    "    \"\"\"\n",
    "\n",
    "    def __init__(self, num_users, \n",
    "                 num_items, \n",
    "                 embedding_dim=64, # define the embding vector length for each node\n",
    "                 K=3, \n",
    "                 add_self_loops=False):\n",
    "        \"\"\"Initializes LightGCN Model\n",
    "\n",
    "        Args:\n",
    "            num_users (int): Number of users\n",
    "            num_items (int): Number of items\n",
    "            embedding_dim (int, optional): Dimensionality of embeddings. Defaults to 8.\n",
    "            K (int, optional): Number of message passing layers. Defaults to 3.\n",
    "            add_self_loops (bool, optional): Whether to add self loops for message passing. Defaults to False.\n",
    "        \"\"\"\n",
    "        super().__init__()\n",
    "        self.num_users = num_users\n",
    "        self.num_items = num_items\n",
    "        self.embedding_dim = embedding_dim\n",
    "        self.K = K\n",
    "        self.add_self_loops = add_self_loops\n",
    "\n",
    "        # define user and item embedding for direct look up. \n",
    "        # embedding dimension: num_user/num_item x embedding_dim\n",
    "        \n",
    "        self.users_emb = nn.Embedding(num_embeddings=self.num_users, embedding_dim=self.embedding_dim) # e_u^0\n",
    "        \n",
    "        self.items_emb = nn.Embedding(num_embeddings=self.num_items, embedding_dim=self.embedding_dim) # e_i^0\n",
    "\n",
    "        # \"Fills the input Tensor with values drawn from the normal distribution\"\n",
    "        # according to LightGCN paper, this gives better performance\n",
    "        nn.init.normal_(self.users_emb.weight, std=0.1)\n",
    "        nn.init.normal_(self.items_emb.weight, std=0.1)\n",
    "\n",
    "    def forward(self, edge_index: Tensor):\n",
    "        \"\"\"Forward propagation of LightGCN Model.\n",
    "\n",
    "        Args:\n",
    "            edge_index (SparseTensor): adjacency matrix\n",
    "\n",
    "        Returns:\n",
    "            tuple (Tensor): e_u_k, e_u_0, e_i_k, e_i_0\n",
    "        \"\"\"\n",
    "\n",
    "\n",
    "        \"\"\"\n",
    "            compute \\tilde{A}: symmetrically normalized adjacency matrix\n",
    "            \\tilde_A = D^(-1/2) * A * D^(-1/2)    according to LightGCN paper\n",
    "        \n",
    "            this is essentially a metrix operation way to get 1/ (sqrt(n_neighbors_i) * sqrt(n_neighbors_j))\n",
    "\n",
    "        \n",
    "            if your original edge_index look like\n",
    "            tensor([[   0,    0,    0,  ...,  609,  609,  609],\n",
    "                    [   0,    2,    5,  ..., 9444, 9445, 9485]])\n",
    "                    \n",
    "                    torch.Size([2, 99466])\n",
    "                    \n",
    "            then this will output: \n",
    "                (\n",
    "                 tensor([[   0,    0,    0,  ...,  609,  609,  609],\n",
    "                         [   0,    2,    5,  ..., 9444, 9445, 9485]]), \n",
    "                 tensor([0.0047, 0.0096, 0.0068,  ..., 0.0592, 0.0459, 0.1325])\n",
    "                 )\n",
    "                 \n",
    "              where edge_index_norm[0] is just the original edge_index\n",
    "              \n",
    "              and edge_index_norm[1] is the symmetrically normalization term. \n",
    "              \n",
    "            under the hood it's basically doing\n",
    "                def compute_gcn_norm(edge_index, emb):\n",
    "                    emb = emb.weight\n",
    "                    from_, to_ = edge_index\n",
    "                    deg = degree(to_, emb.size(0), dtype=emb.dtype)\n",
    "                    deg_inv_sqrt = deg.pow(-0.5)\n",
    "                    deg_inv_sqrt[deg_inv_sqrt == float('inf')] = 0\n",
    "                    norm = deg_inv_sqrt[from_] * deg_inv_sqrt[to_]\n",
    "\n",
    "                    return norm\n",
    "                 \n",
    "                \n",
    "        \"\"\"\n",
    "        edge_index_norm = gcn_norm(edge_index=edge_index, \n",
    "                                   add_self_loops=self.add_self_loops)\n",
    "\n",
    "        # concat the user_emb and item_emb as the layer0 embing matrix\n",
    "        # size will be (n_users + n_items) x emb_vector_len.   e.g: 10334 x 64\n",
    "        emb_0 = torch.cat([self.users_emb.weight, self.items_emb.weight]) # E^0\n",
    "\n",
    "        embs = [emb_0] # save the layer0 emb to the embs list\n",
    "        \n",
    "        # emb_k is the emb that we are actually going to push it through the graph layers\n",
    "        # as described in lightGCN paper formula 7\n",
    "        emb_k = emb_0 \n",
    "\n",
    "        # push the embedding of all users and items through the Graph Model K times.\n",
    "        # K here is the number of layers\n",
    "        for i in range(self.K):\n",
    "            emb_k = self.propagate(edge_index=edge_index_norm[0], x=emb_k, norm=edge_index_norm[1])\n",
    "            embs.append(emb_k)\n",
    "            \n",
    "            \n",
    "        # this is doing the formula8 in LightGCN paper  \n",
    "            \n",
    "        # the stacked embs is a list of embedding matrix at each layer\n",
    "        #    it's of shape n_nodes x (n_layers + 1) x emb_vector_len. \n",
    "        #        e.g: torch.Size([10334, 4, 64])\n",
    "        embs = torch.stack(embs, dim=1)\n",
    "        \n",
    "        # From LightGCn paper: \"In our experiments, we find that setting α_k uniformly as 1/(K + 1)\n",
    "        #    leads to good performance in general.\"\n",
    "        emb_final = torch.mean(embs, dim=1) # E^K\n",
    "\n",
    "\n",
    "        # splits into e_u^K and e_i^K\n",
    "        users_emb_final, items_emb_final = torch.split(emb_final, [self.num_users, self.num_items]) \n",
    "\n",
    "        # returns e_u^K, e_u^0, e_i^K, e_i^0\n",
    "        # here using .weight to get the tensor weights from n.Embedding\n",
    "        return users_emb_final, self.users_emb.weight, items_emb_final, self.items_emb.weight\n",
    "\n",
    "    def message(self, x_j, norm):\n",
    "        # x_j is of shape:  edge_index_len x emb_vector_len\n",
    "        #    e.g: torch.Size([77728, 64]\n",
    "        #\n",
    "        # x_j is basically the embedding of all the neighbors based on the src_list in coo edge index\n",
    "        # \n",
    "        # elementwise multiply by the symmetrically norm. So it's essentiall what formula 7 in LightGCN\n",
    "        # paper does but here we are using edge_index rather than Adj Matrix\n",
    "        return norm.view(-1, 1) * x_j\n",
    "\n",
    "layers = 3    \n",
    "model = LightGCN(num_users=num_users, \n",
    "                 num_items=num_movies, \n",
    "                 K=layers)"
   ],
   "id": "3d6156f686925ce0",
   "outputs": [],
   "execution_count": 87
  },
  {
   "metadata": {
    "ExecuteTime": {
     "end_time": "2025-01-12T21:20:59.919951Z",
     "start_time": "2025-01-12T21:20:59.917413Z"
    }
   },
   "cell_type": "code",
   "source": [
    "def bpr_loss(users_emb_final, \n",
    "             users_emb_0, \n",
    "             pos_items_emb_final, \n",
    "             pos_items_emb_0, \n",
    "             neg_items_emb_final, \n",
    "             neg_items_emb_0, \n",
    "             lambda_val):\n",
    "    \"\"\"Bayesian Personalized Ranking Loss as described in https://arxiv.org/abs/1205.2618\n",
    "\n",
    "    Args:\n",
    "        users_emb_final (torch.Tensor): e_u_k\n",
    "        users_emb_0 (torch.Tensor): e_u_0\n",
    "        pos_items_emb_final (torch.Tensor): positive e_i_k\n",
    "        pos_items_emb_0 (torch.Tensor): positive e_i_0\n",
    "        neg_items_emb_final (torch.Tensor): negative e_i_k\n",
    "        neg_items_emb_0 (torch.Tensor): negative e_i_0\n",
    "        lambda_val (float): lambda value for regularization loss term\n",
    "\n",
    "    Returns:\n",
    "        torch.Tensor: scalar bpr loss value\n",
    "    \"\"\"\n",
    "    reg_loss = lambda_val * (users_emb_0.norm(2).pow(2) +\n",
    "                             pos_items_emb_0.norm(2).pow(2) +\n",
    "                             neg_items_emb_0.norm(2).pow(2)) # L2 loss\n",
    "\n",
    "    pos_scores = torch.mul(users_emb_final, pos_items_emb_final)\n",
    "    pos_scores = torch.sum(pos_scores, dim=-1) # predicted scores of positive samples\n",
    "    neg_scores = torch.mul(users_emb_final, neg_items_emb_final)\n",
    "    neg_scores = torch.sum(neg_scores, dim=-1) # predicted scores of negative samples\n",
    "\n",
    "\n",
    "    bpr_loss = -torch.mean(torch.nn.functional.softplus(pos_scores - neg_scores))\n",
    "    \n",
    "    loss = bpr_loss + reg_loss\n",
    "    \n",
    "    return loss"
   ],
   "id": "211c03013dbc0e3b",
   "outputs": [],
   "execution_count": 88
  },
  {
   "metadata": {
    "ExecuteTime": {
     "end_time": "2025-01-12T21:20:59.946939Z",
     "start_time": "2025-01-12T21:20:59.944566Z"
    }
   },
   "cell_type": "code",
   "source": [
    "def get_user_positive_items(edge_index):\n",
    "    \"\"\"\n",
    "    Generates dictionary of positive items for each user\n",
    "\n",
    "    Args:\n",
    "        edge_index (torch.Tensor): 2 by N list of edges \n",
    "\n",
    "    Returns:\n",
    "        dict: user -> list of positive items for each \n",
    "    \"\"\"\n",
    "    \n",
    "    # key: user_id, val: item_id list\n",
    "    user_pos_items = {}\n",
    "    \n",
    "    for i in range(edge_index.shape[1]):\n",
    "        user = edge_index[0][i].item()\n",
    "        item = edge_index[1][i].item()\n",
    "        \n",
    "        if user not in user_pos_items:\n",
    "            user_pos_items[user] = []\n",
    "        \n",
    "        user_pos_items[user].append(item)\n",
    "        \n",
    "    return user_pos_items"
   ],
   "id": "97e7f942bbef6c57",
   "outputs": [],
   "execution_count": 89
  },
  {
   "metadata": {
    "ExecuteTime": {
     "end_time": "2025-01-12T21:20:59.953021Z",
     "start_time": "2025-01-12T21:20:59.950523Z"
    }
   },
   "cell_type": "code",
   "source": [
    "# computes recall@K and precision@K\n",
    "def RecallPrecision_ATk(groundTruth, r, k):\n",
    "    \"\"\"Computers recall @ k and precision @ k\n",
    "\n",
    "    Args:\n",
    "        groundTruth (list[list[long]]): list of lists of item_ids. Cntaining highly rated items of each user. \n",
    "                            In other words, this is the list of true_relevant_items for each user\n",
    "                            \n",
    "        r (list[list[boolean]]): list of lists indicating whether each top k item recommended to each user\n",
    "                            is a top k ground truth (true relevant) item or not\n",
    "                            \n",
    "        k (int): determines the top k items to compute precision and recall on\n",
    "\n",
    "    Returns:\n",
    "        tuple: recall @ k, precision @ k\n",
    "    \"\"\"\n",
    "    \n",
    "    # number of correctly predicted items per user\n",
    "    # -1 here means I want to sum at the inner most dimension\n",
    "    num_correct_pred = torch.sum(r, dim=-1)  \n",
    "    \n",
    "    # number of items liked by each user in the test set\n",
    "    user_num_liked = torch.Tensor([len(groundTruth[i]) for i in range(len(groundTruth))])\n",
    "    \n",
    "    recall = torch.mean(num_correct_pred / user_num_liked)\n",
    "    precision = torch.mean(num_correct_pred) / k\n",
    "    return recall.item(), precision.item()"
   ],
   "id": "d5f152ec77383023",
   "outputs": [],
   "execution_count": 90
  },
  {
   "metadata": {
    "ExecuteTime": {
     "end_time": "2025-01-12T21:20:59.968493Z",
     "start_time": "2025-01-12T21:20:59.965974Z"
    }
   },
   "cell_type": "code",
   "source": [
    "# computes NDCG@K\n",
    "def NDCGatK_r(groundTruth, r, k):\n",
    "    \"\"\"Computes Normalized Discounted Cumulative Gain (NDCG) @ k\n",
    "\n",
    "    Args:\n",
    "        groundTruth (list): list of lists containing highly rated items of each user\n",
    "        r (list): list of lists indicating whether each top k item recommended to each user\n",
    "            is a top k ground truth item or not\n",
    "        k (int): determines the top k items to compute ndcg on\n",
    "\n",
    "    Returns:\n",
    "        float: ndcg @ k\n",
    "    \"\"\"\n",
    "    assert len(r) == len(groundTruth)\n",
    "\n",
    "    test_matrix = torch.zeros((len(r), k))\n",
    "\n",
    "    for i, items in enumerate(groundTruth):\n",
    "        length = min(len(items), k)\n",
    "        test_matrix[i, :length] = 1\n",
    "    max_r = test_matrix\n",
    "    idcg = torch.sum(max_r * 1. / torch.log2(torch.arange(2, k + 2)), axis=1)\n",
    "    dcg = r * (1. / torch.log2(torch.arange(2, k + 2)))\n",
    "    dcg = torch.sum(dcg, axis=1)\n",
    "    idcg[idcg == 0.] = 1.\n",
    "    ndcg = dcg / idcg\n",
    "    ndcg[torch.isnan(ndcg)] = 0.\n",
    "    return torch.mean(ndcg).item()"
   ],
   "id": "84e50066b5e95fdf",
   "outputs": [],
   "execution_count": 91
  },
  {
   "metadata": {
    "ExecuteTime": {
     "end_time": "2025-01-12T21:20:59.986844Z",
     "start_time": "2025-01-12T21:20:59.982464Z"
    }
   },
   "cell_type": "code",
   "source": [
    "# wrapper function to get evaluation metrics\n",
    "def get_metrics(model, \n",
    "                input_edge_index, # adj_mat based edge index\n",
    "                input_exclude_edge_indices, # adj_mat based exclude edge index\n",
    "                k):\n",
    "    \"\"\"Computes the evaluation metrics: recall, precision, and ndcg @ k\n",
    "\n",
    "    Args:\n",
    "        model (LighGCN): lightgcn model\n",
    "        \n",
    "        edge_index (torch.Tensor): 2 by N list of edges for split to evaluate\n",
    "        \n",
    "        exclude_edge_indices ([type]): 2 by N list of edges for split to discount from evaluation\n",
    "        \n",
    "        k (int): determines the top k items to compute metrics on\n",
    "\n",
    "    Returns:\n",
    "        tuple: recall @ k, precision @ k, ndcg @ k\n",
    "    \"\"\"\n",
    "    # get the embedding tensor at layer 0 after training\n",
    "    user_embedding = model.users_emb.weight\n",
    "    item_embedding = model.items_emb.weight\n",
    "    \n",
    "\n",
    "    # convert adj_mat based edge index to r_mat based edge index so we have have \n",
    "    # the first list being user_ids and second list being item_ids for the edge index \n",
    "    edge_index = convert_adj_mat_edge_index_to_r_mat_edge_index(input_edge_index)\n",
    "\n",
    "    # This is to exclude the edges we have seen before in our predicted interaction matrix (r_mat_rating)\n",
    "    # E.g: for validation set, we want want to exclude all the edges in training set\n",
    "    exclude_edge_indices = [convert_adj_mat_edge_index_to_r_mat_edge_index(exclude_edge_index) \\\n",
    "                                      for exclude_edge_index in input_exclude_edge_indices]\n",
    "\n",
    "     \n",
    "\n",
    "    # Generate predicted interaction matrix (r_mat_rating)    \n",
    "    # (num_users x 64) dot_product (num_item x 64).T \n",
    "    r_mat_rating = torch.matmul(user_embedding, item_embedding.T)\n",
    "    \n",
    "    # shape: num_users x num_item\n",
    "    rating = r_mat_rating\n",
    "   \n",
    "    for exclude_edge_index in exclude_edge_indices:\n",
    "        # gets all the positive items for each user from the edge index\n",
    "        # it's a dict: user -> positive item list\n",
    "        user_pos_items = get_user_positive_items(exclude_edge_index)\n",
    "        \n",
    "        # get coordinates of all edges to exclude\n",
    "        exclude_users = []\n",
    "        exclude_items = []\n",
    "        for user, items in user_pos_items.items():\n",
    "            # [user] * len(item) can give us [user1, user1, user1...] with len of len(item)\n",
    "            # this makes easier to do the masking below\n",
    "            exclude_users.extend([user] * len(items))\n",
    "            exclude_items.extend(items)\n",
    "   \n",
    "        # set the excluded entry in the rat_mat_rating matrix to a very small number\n",
    "        rating[exclude_users, exclude_items] = -(1 << 10) \n",
    "\n",
    "    # get the top k recommended items for each user\n",
    "    _, top_K_items = torch.topk(rating, k=k)\n",
    "\n",
    "    # get all unique users in evaluated split\n",
    "    users = edge_index[0].unique()\n",
    "\n",
    "    # dict of user -> pos_item list\n",
    "    test_user_pos_items = get_user_positive_items(edge_index)\n",
    "\n",
    "    # convert test user pos items dictionary into a list of lists\n",
    "    test_user_pos_items_list = [test_user_pos_items[user.item()] for user in users]\n",
    "\n",
    "\n",
    "    # r here is \"pred_relevant_items ∩ actually_relevant_items\" list for each user\n",
    "    r = []\n",
    "    for user in users:\n",
    "        user_true_relevant_item = test_user_pos_items[user.item()]\n",
    "        # list of Booleans to store whether or not a given item in the top_K_items for a given user \n",
    "        # is also present in user_true_relevant_item.\n",
    "        # this is later on used to compute n_rel_and_rec_k\n",
    "        label = list(map(lambda x: x in user_true_relevant_item, top_K_items[user]))\n",
    "        r.append(label)\n",
    "        \n",
    "    r = torch.Tensor(np.array(r).astype('float'))\n",
    "\n",
    "    recall, precision = RecallPrecision_ATk(test_user_pos_items_list, r, k)\n",
    "    ndcg = NDCGatK_r(test_user_pos_items_list, r, k)\n",
    "\n",
    "    return recall, precision, ndcg"
   ],
   "id": "5e8634b722cf8a8",
   "outputs": [],
   "execution_count": 92
  },
  {
   "metadata": {
    "ExecuteTime": {
     "end_time": "2025-01-12T21:21:00.002698Z",
     "start_time": "2025-01-12T21:20:59.999768Z"
    }
   },
   "cell_type": "code",
   "source": [
    "# wrapper function to evaluate model\n",
    "def evaluation(model, \n",
    "               edge_index, # adj_mat based edge index\n",
    "               exclude_edge_indices,  # adj_mat based exclude edge index\n",
    "               k, \n",
    "               lambda_val\n",
    "              ):\n",
    "    \"\"\"Evaluates model loss and metrics including recall, precision, ndcg @ k\n",
    "\n",
    "    Args:\n",
    "        model (LighGCN): lightgcn model\n",
    "        edge_index (torch.Tensor): 2 by N list of edges for split to evaluate\n",
    "        sparse_edge_index (sparseTensor): sparse adjacency matrix for split to evaluate\n",
    "        exclude_edge_indices ([type]): 2 by N list of edges for split to discount from evaluation\n",
    "        k (int): determines the top k items to compute metrics on\n",
    "        lambda_val (float): determines lambda for bpr loss\n",
    "\n",
    "    Returns:\n",
    "        tuple: bpr loss, recall @ k, precision @ k, ndcg @ k\n",
    "    \"\"\"\n",
    "    # get embeddings\n",
    "    users_emb_final, users_emb_0, items_emb_final, items_emb_0 = model.forward(edge_index)\n",
    "    \n",
    "    r_mat_edge_index = convert_adj_mat_edge_index_to_r_mat_edge_index(edge_index)\n",
    "    \n",
    "    edges = structured_negative_sampling(r_mat_edge_index, contains_neg_self_loops=False)\n",
    "    \n",
    "    user_indices, pos_item_indices, neg_item_indices = edges[0], edges[1], edges[2]\n",
    "    \n",
    "    users_emb_final, users_emb_0 = users_emb_final[user_indices], users_emb_0[user_indices]\n",
    "    \n",
    "    pos_items_emb_final, pos_items_emb_0 = items_emb_final[pos_item_indices], items_emb_0[pos_item_indices]\n",
    "    \n",
    "    neg_items_emb_final, neg_items_emb_0 = items_emb_final[neg_item_indices], items_emb_0[neg_item_indices]\n",
    "\n",
    "    loss = bpr_loss(users_emb_final, \n",
    "                    users_emb_0, \n",
    "                    pos_items_emb_final, \n",
    "                    pos_items_emb_0,\n",
    "                    neg_items_emb_final, \n",
    "                    neg_items_emb_0, \n",
    "                    lambda_val).item()\n",
    "\n",
    "\n",
    "    recall, precision, ndcg = get_metrics(model, \n",
    "                                          edge_index, \n",
    "                                          exclude_edge_indices, \n",
    "                                          k)\n",
    "\n",
    "    return loss, recall, precision, ndcg"
   ],
   "id": "ceee082d4ff0c623",
   "outputs": [],
   "execution_count": 93
  },
  {
   "metadata": {
    "ExecuteTime": {
     "end_time": "2025-01-12T21:21:00.019069Z",
     "start_time": "2025-01-12T21:21:00.017082Z"
    }
   },
   "cell_type": "code",
   "source": [
    "# define contants\n",
    "ITERATIONS = 1000\n",
    "EPOCHS = 10\n",
    "# ITERATIONS = 500\n",
    "BATCH_SIZE = 1024\n",
    "LR = 1e-3\n",
    "ITERS_PER_EVAL = 200\n",
    "ITERS_PER_LR_DECAY = 200\n",
    "K = 20\n",
    "LAMBDA = 1e-6\n",
    "# LAMBDA = 1/2\n"
   ],
   "id": "1a65bf3ebb8bfd00",
   "outputs": [],
   "execution_count": 94
  },
  {
   "metadata": {
    "ExecuteTime": {
     "end_time": "2025-01-12T21:21:00.036317Z",
     "start_time": "2025-01-12T21:21:00.032987Z"
    }
   },
   "cell_type": "code",
   "source": [
    "# setup\n",
    "device = torch.device('cuda' if torch.cuda.is_available() else 'cpu')\n",
    "print(f\"Using device {device}.\")\n",
    "\n",
    "\n",
    "model = model.to(device)\n",
    "model.train()\n",
    "\n",
    "optimizer = optim.Adam(model.parameters(), lr=LR)\n",
    "scheduler = optim.lr_scheduler.ExponentialLR(optimizer, gamma=0.95)\n",
    "\n",
    "edge_index = edge_index.to(device)\n",
    "train_edge_index = train_edge_index.to(device)\n",
    "val_edge_index = val_edge_index.to(device)"
   ],
   "id": "c05648f801f8dcbe",
   "outputs": [
    {
     "name": "stdout",
     "output_type": "stream",
     "text": [
      "Using device cpu.\n"
     ]
    }
   ],
   "execution_count": 95
  },
  {
   "metadata": {
    "ExecuteTime": {
     "end_time": "2025-01-12T21:21:00.052735Z",
     "start_time": "2025-01-12T21:21:00.050214Z"
    }
   },
   "cell_type": "code",
   "source": [
    "def get_embs_for_bpr(model, input_edge_index):\n",
    "    users_emb_final, users_emb_0, items_emb_final, items_emb_0 = model.forward(input_edge_index)\n",
    "    \n",
    "\n",
    "    edge_index_to_use = convert_adj_mat_edge_index_to_r_mat_edge_index(input_edge_index)\n",
    "    \n",
    "    # mini batching for eval and calculate loss \n",
    "    user_indices, pos_item_indices, neg_item_indices = sample_mini_batch(BATCH_SIZE, edge_index_to_use)\n",
    "    \n",
    "    # This is to push tensor to device so if we are using GPU\n",
    "    user_indices, pos_item_indices, neg_item_indices = user_indices.to(device), pos_item_indices.to(device), neg_item_indices.to(device)\n",
    "    \n",
    " \n",
    "    # we need layer0 embeddings and the final embeddings (computed from 0...K layer) for BPR loss computing\n",
    "    users_emb_final, users_emb_0 = users_emb_final[user_indices], users_emb_0[user_indices]\n",
    "    pos_items_emb_final, pos_items_emb_0 = items_emb_final[pos_item_indices], items_emb_0[pos_item_indices]\n",
    "    neg_items_emb_final, neg_items_emb_0 = items_emb_final[neg_item_indices], items_emb_0[neg_item_indices]\n",
    "   \n",
    "    return users_emb_final, users_emb_0, pos_items_emb_final, pos_items_emb_0, neg_items_emb_final, neg_items_emb_0"
   ],
   "id": "126365c9e080a274",
   "outputs": [],
   "execution_count": 96
  },
  {
   "metadata": {
    "ExecuteTime": {
     "end_time": "2025-01-12T21:22:07.665682Z",
     "start_time": "2025-01-12T21:21:00.080450Z"
    }
   },
   "cell_type": "code",
   "source": [
    "# training loop\n",
    "train_losses = []\n",
    "val_losses = []\n",
    "val_recall_at_ks = []\n",
    "\n",
    "for iter in tqdm(range(ITERATIONS)):\n",
    "    # forward propagation  \n",
    "    users_emb_final, users_emb_0,  pos_items_emb_final, pos_items_emb_0, neg_items_emb_final, neg_items_emb_0 \\\n",
    "                = get_embs_for_bpr(model, train_edge_index)\n",
    "    \n",
    "    # loss computation\n",
    "    train_loss = bpr_loss(users_emb_final, \n",
    "                          users_emb_0, \n",
    "                          pos_items_emb_final,\n",
    "                          pos_items_emb_0, \n",
    "                          neg_items_emb_final, \n",
    "                          neg_items_emb_0, \n",
    "                          LAMBDA)\n",
    "\n",
    "    optimizer.zero_grad()\n",
    "    train_loss.backward()\n",
    "    optimizer.step()\n",
    "\n",
    "    # validation set\n",
    "    if iter % ITERS_PER_EVAL == 0:\n",
    "        model.eval()\n",
    "        \n",
    "        with torch.no_grad():\n",
    "            val_loss, recall, precision, ndcg = evaluation(model, \n",
    "                                                           val_edge_index, \n",
    "                                                           [train_edge_index], \n",
    "                                                           K, \n",
    "                                                           LAMBDA\n",
    "                                                          )\n",
    "\n",
    "            print(f\"[Iteration {iter}/{ITERATIONS}] train_loss: {round(train_loss.item(), 5)}, val_loss: {round(val_loss, 5)}, val_recall@{K}: {round(recall, 5)}, val_precision@{K}: {round(precision, 5)}, val_ndcg@{K}: {round(ndcg, 5)}\")\n",
    "\n",
    "            train_losses.append(train_loss.item())\n",
    "            val_losses.append(val_loss)\n",
    "            val_recall_at_ks.append(round(recall, 5))\n",
    "        model.train()\n",
    "\n",
    "    if iter % ITERS_PER_LR_DECAY == 0 and iter != 0:\n",
    "        scheduler.step()"
   ],
   "id": "e176e8dd94f846a5",
   "outputs": [
    {
     "data": {
      "text/plain": [
       "  0%|          | 0/1000 [00:00<?, ?it/s]"
      ],
      "application/vnd.jupyter.widget-view+json": {
       "version_major": 2,
       "version_minor": 0,
       "model_id": "7ed8c13fd9b243be8b417a38e0b56ef4"
      }
     },
     "metadata": {},
     "output_type": "display_data"
    },
    {
     "name": "stdout",
     "output_type": "stream",
     "text": [
      "[Iteration 0/1000] train_loss: -0.69305, val_loss: -0.69927, val_recall@20: 0.00765, val_precision@20: 0.00136, val_ndcg@20: 0.00382\n",
      "[Iteration 200/1000] train_loss: -6.81518, val_loss: -5.20893, val_recall@20: 0.06803, val_precision@20: 0.02342, val_ndcg@20: 0.04122\n",
      "[Iteration 400/1000] train_loss: -29.65729, val_loss: -21.31857, val_recall@20: 0.09887, val_precision@20: 0.03264, val_ndcg@20: 0.0656\n",
      "[Iteration 600/1000] train_loss: -60.88012, val_loss: -45.00404, val_recall@20: 0.10844, val_precision@20: 0.03725, val_ndcg@20: 0.07701\n",
      "[Iteration 800/1000] train_loss: -102.9501, val_loss: -74.68716, val_recall@20: 0.12089, val_precision@20: 0.04014, val_ndcg@20: 0.08597\n"
     ]
    }
   ],
   "execution_count": 97
  },
  {
   "metadata": {
    "ExecuteTime": {
     "end_time": "2025-01-12T21:22:07.745313Z",
     "start_time": "2025-01-12T21:22:07.681751Z"
    }
   },
   "cell_type": "code",
   "source": [
    "iters = [iter * ITERS_PER_EVAL for iter in range(len(train_losses))]\n",
    "plt.plot(iters, train_losses, label='train')\n",
    "plt.plot(iters, val_losses, label='validation')\n",
    "plt.xlabel('iteration')\n",
    "plt.ylabel('loss')\n",
    "plt.title('training and validation loss curves')\n",
    "plt.legend()\n",
    "plt.show()"
   ],
   "id": "6e127b23285234d2",
   "outputs": [
    {
     "data": {
      "text/plain": [
       "<Figure size 640x480 with 1 Axes>"
      ],
      "image/png": "[encoded data removed]"
     },
     "metadata": {},
     "output_type": "display_data"
    }
   ],
   "execution_count": 98
  },
  {
   "metadata": {
    "ExecuteTime": {
     "end_time": "2025-01-12T21:22:07.815015Z",
     "start_time": "2025-01-12T21:22:07.762069Z"
    }
   },
   "cell_type": "code",
   "source": [
    "f2 = plt.figure()\n",
    "plt.plot(iters, val_recall_at_ks, label='recall_at_k')\n",
    "plt.xlabel('iteration')\n",
    "plt.ylabel('recall_at_k')\n",
    "plt.title('recall_at_k curves')\n",
    "plt.show()"
   ],
   "id": "8d84a1680dbdaca",
   "outputs": [
    {
     "data": {
      "text/plain": [
       "<Figure size 640x480 with 1 Axes>"
      ],
      "image/png": "[encoded data removed]"
     },
     "metadata": {},
     "output_type": "display_data"
    }
   ],
   "execution_count": 99
  },
  {
   "metadata": {
    "ExecuteTime": {
     "end_time": "2025-01-12T21:22:08.214566Z",
     "start_time": "2025-01-12T21:22:07.820881Z"
    }
   },
   "cell_type": "code",
   "source": [
    "# evaluate on test set\n",
    "model.eval()\n",
    "test_edge_index = test_edge_index.to(device)\n",
    "\n",
    "test_loss, test_recall, test_precision, test_ndcg = evaluation(model, \n",
    "                                                               test_edge_index, \n",
    "                                                               [train_edge_index, val_edge_index], \n",
    "                                                               K, \n",
    "                                                               LAMBDA\n",
    "                                                              )\n",
    "\n",
    "print(f\"[test_loss: {round(test_loss, 5)}, test_recall@{K}: {round(test_recall, 5)}, test_precision@{K}: {round(test_precision, 5)}, test_ndcg@{K}: {round(test_ndcg, 5)}\")"
   ],
   "id": "820c3d6f456e9beb",
   "outputs": [
    {
     "name": "stdout",
     "output_type": "stream",
     "text": [
      "[test_loss: -108.02733, test_recall@20: 0.12384, test_precision@20: 0.04284, test_ndcg@20: 0.08748\n"
     ]
    }
   ],
   "execution_count": 100
  },
  {
   "metadata": {
    "ExecuteTime": {
     "end_time": "2025-01-12T21:22:08.240127Z",
     "start_time": "2025-01-12T21:22:08.228755Z"
    }
   },
   "cell_type": "code",
   "source": "rating_df['timestamp_norm'] = pd.to_datetime(rating_df['timestamp'], unit='s')",
   "id": "6f8fc107f6382d70",
   "outputs": [],
   "execution_count": 101
  },
  {
   "metadata": {
    "ExecuteTime": {
     "end_time": "2025-01-12T21:22:08.271226Z",
     "start_time": "2025-01-12T21:22:08.267388Z"
    }
   },
   "cell_type": "code",
   "source": "rating_df.head()",
   "id": "daea384387e5a14f",
   "outputs": [
    {
     "data": {
      "text/plain": [
       "   userId  movieId  rating  timestamp      timestamp_norm\n",
       "0       0        0     4.0  964982703 2000-07-30 18:45:03\n",
       "1       0        2     4.0  964981247 2000-07-30 18:20:47\n",
       "2       0        5     4.0  964982224 2000-07-30 18:37:04\n",
       "3       0       43     5.0  964983815 2000-07-30 19:03:35\n",
       "4       0       46     5.0  964982931 2000-07-30 18:48:51"
      ],
      "text/html": [
       "<div>\n",
       "<style scoped>\n",
       "    .dataframe tbody tr th:only-of-type {\n",
       "        vertical-align: middle;\n",
       "    }\n",
       "\n",
       "    .dataframe tbody tr th {\n",
       "        vertical-align: top;\n",
       "    }\n",
       "\n",
       "    .dataframe thead th {\n",
       "        text-align: right;\n",
       "    }\n",
       "</style>\n",
       "<table border=\"1\" class=\"dataframe\">\n",
       "  <thead>\n",
       "    <tr style=\"text-align: right;\">\n",
       "      <th></th>\n",
       "      <th>userId</th>\n",
       "      <th>movieId</th>\n",
       "      <th>rating</th>\n",
       "      <th>timestamp</th>\n",
       "      <th>timestamp_norm</th>\n",
       "    </tr>\n",
       "  </thead>\n",
       "  <tbody>\n",
       "    <tr>\n",
       "      <th>0</th>\n",
       "      <td>0</td>\n",
       "      <td>0</td>\n",
       "      <td>4.0</td>\n",
       "      <td>964982703</td>\n",
       "      <td>2000-07-30 18:45:03</td>\n",
       "    </tr>\n",
       "    <tr>\n",
       "      <th>1</th>\n",
       "      <td>0</td>\n",
       "      <td>2</td>\n",
       "      <td>4.0</td>\n",
       "      <td>964981247</td>\n",
       "      <td>2000-07-30 18:20:47</td>\n",
       "    </tr>\n",
       "    <tr>\n",
       "      <th>2</th>\n",
       "      <td>0</td>\n",
       "      <td>5</td>\n",
       "      <td>4.0</td>\n",
       "      <td>964982224</td>\n",
       "      <td>2000-07-30 18:37:04</td>\n",
       "    </tr>\n",
       "    <tr>\n",
       "      <th>3</th>\n",
       "      <td>0</td>\n",
       "      <td>43</td>\n",
       "      <td>5.0</td>\n",
       "      <td>964983815</td>\n",
       "      <td>2000-07-30 19:03:35</td>\n",
       "    </tr>\n",
       "    <tr>\n",
       "      <th>4</th>\n",
       "      <td>0</td>\n",
       "      <td>46</td>\n",
       "      <td>5.0</td>\n",
       "      <td>964982931</td>\n",
       "      <td>2000-07-30 18:48:51</td>\n",
       "    </tr>\n",
       "  </tbody>\n",
       "</table>\n",
       "</div>"
      ]
     },
     "execution_count": 102,
     "metadata": {},
     "output_type": "execute_result"
    }
   ],
   "execution_count": 102
  },
  {
   "metadata": {
    "ExecuteTime": {
     "end_time": "2025-01-12T21:22:08.641301Z",
     "start_time": "2025-01-12T21:22:08.292684Z"
    }
   },
   "cell_type": "code",
   "source": [
    "monthly_ratings = rating_df.groupby([rating_df['timestamp_norm'].dt.to_period('Y'), 'rating'])['rating'].count().unstack()\n",
    "monthly_ratings.plot(kind='bar', stacked=True)\n",
    "plt.xlabel('Month')\n",
    "plt.ylabel('Number of Ratings')\n",
    "plt.title('Number of Ratings per Month and Rating Value')\n",
    "plt.legend(title='Rating')\n",
    "plt.show()"
   ],
   "id": "6bf9fc51467ee70a",
   "outputs": [
    {
     "data": {
      "text/plain": [
       "<Figure size 640x480 with 1 Axes>"
      ],
      "image/png": "[encoded data removed]"
     },
     "metadata": {},
     "output_type": "display_data"
    }
   ],
   "execution_count": 103
  },
  {
   "metadata": {
    "ExecuteTime": {
     "end_time": "2025-01-12T21:22:08.790958Z",
     "start_time": "2025-01-12T21:22:08.661569Z"
    }
   },
   "cell_type": "code",
   "source": [
    "# Group data by month and rating, then unstack for plotting\n",
    "monthly_ratings = rating_df.groupby([rating_df['timestamp_norm'].dt.to_period('Y'), 'rating'])['rating'].count().unstack()\n",
    "\n",
    "# Plot all ratings on the same figure\n",
    "plt.figure()  # Create only one figure\n",
    "for rating in monthly_ratings.columns:\n",
    "    monthly_ratings[rating].plot(kind='line', label=f'Rating {rating}')  # Plot each rating with a label\n",
    "\n",
    "plt.xlabel('Month')\n",
    "plt.ylabel('Number of Ratings')\n",
    "plt.title('Number of Ratings per Month for Each Rating Value')  # Overall title\n",
    "plt.legend()  # Show the legend\n",
    "plt.show()"
   ],
   "id": "c91b011f03482d8b",
   "outputs": [
    {
     "data": {
      "text/plain": [
       "<Figure size 640x480 with 1 Axes>"
      ],
      "image/png": "[encoded data removed]"
     },
     "metadata": {},
     "output_type": "display_data"
    }
   ],
   "execution_count": 104
  },
  {
   "metadata": {},
   "cell_type": "code",
   "outputs": [],
   "execution_count": null,
   "source": [
    "import copy\n",
    "import random\n",
    "\n",
    "import numpy as np\n",
    "import pandas as pd\n",
    "import torch\n",
    "import torch.nn as nn\n",
    "import torch.optim as optim\n",
    "from sklearn.model_selection import train_test_split\n",
    "from torch_geometric.utils import degree, structured_negative_sampling\n",
    "from torch_geometric.nn.conv.gcn_conv import gcn_norm\n",
    "from torch_sparse import SparseTensor, matmul\n",
    "from tqdm import tqdm\n",
    "\n",
    "\n",
    "# ... (Previous code for data loading, preprocessing, and LightGCN model definition)\n",
    "\n",
    "def create_non_iid_partitions(rating_df, num_clients):\n",
    "    \"\"\"Splits the data into non-IID partitions based on user groups.\"\"\"\n",
    "    # Sort data by user ID to introduce bias\n",
    "    sorted_ratings = rating_df.sort_values('userId')\n",
    "\n",
    "    # Calculate data splits based on the sorted data\n",
    "    splits = np.array_split(sorted_ratings, num_clients)\n",
    "    return splits\n",
    "\n",
    "\n",
    "def federated_learning(model, client_data, num_rounds, local_epochs, batch_size, lr, lambda_val, k):\n",
    "    \"\"\"Performs federated learning with the LightGCN model.\"\"\"\n",
    "\n",
    "    train_losses = []  # Loss at each epoch for each client\n",
    "    val_losses = []\n",
    "    val_recalls = []  # averaged across clients\n",
    "    val_precisions = [] # averaged across clients\n",
    "    val_ndcgs = []  # averaged across clients\n",
    "\n",
    "    global_model = copy.deepcopy(model)\n",
    "    client_models = [copy.deepcopy(model) for _ in range(len(client_data))]\n",
    "\n",
    "    for round_num in range(num_rounds):\n",
    "        print(f\"Starting round {round_num + 1}/{num_rounds}\")\n",
    "\n",
    "        round_train_losses = [] # Accumulate losses during a round\n",
    "        client_train_losses = [] # accumulate losses for clients in each round to average\n",
    "\n",
    "        # ... (Client updates) ...\n",
    "\n",
    "        # Aggregate metrics to plot\n",
    "        avg_client_loss_in_round = sum(client_train_losses) / len(client_train_losses) if client_train_losses else 0 # Prevent errors if all client indices were skipped due to empty datasets\n",
    "        train_losses.append(avg_client_loss_in_round)  # Add to overall training losses\n",
    "\n",
    "        # Client updates\n",
    "        for client_idx, client_model in enumerate(client_models):\n",
    "            print(f\"Training client {client_idx + 1}/{len(client_data)}\")\n",
    "            client_optimizer = optim.Adam(client_model.parameters(), lr=lr)\n",
    "            client_edge_index = build_edge_index(client_data[client_idx])\n",
    "            if client_edge_index.shape[1] == 0:  # Added check\n",
    "                print(f\"Client {client_idx+1} has no data in this round. Skipping...\")\n",
    "                continue\n",
    "\n",
    "            # Local training loop\n",
    "            client_model.train()  # Set model to training mode\n",
    "            for epoch in range(local_epochs):\n",
    "                for batch in create_batches(client_edge_index, batch_size=batch_size):\n",
    "                    if batch.shape[1] == 0:  # Additional check within batch loop\n",
    "                        continue\n",
    "                    client_optimizer.zero_grad()\n",
    "\n",
    "                    # Get embeddings and compute loss\n",
    "                    users_emb_final, users_emb_0, pos_items_emb_final, pos_items_emb_0, \\\n",
    "                        neg_items_emb_final, neg_items_emb_0 = get_embs_for_bpr(client_model, batch)\n",
    "\n",
    "                    loss = bpr_loss(users_emb_final, users_emb_0,\n",
    "                                    pos_items_emb_final, pos_items_emb_0,\n",
    "                                    neg_items_emb_final, neg_items_emb_0,\n",
    "                                    lambda_val)\n",
    "\n",
    "                    loss.backward()\n",
    "                    client_optimizer.step()\n",
    "                    round_train_losses.append(loss.item()) # append loss for each epoch\n",
    "\n",
    "        train_losses.extend(round_train_losses)  # Add a rounds epoch losses to the overall list\n",
    "        # Server aggregation (FedAvg)\n",
    "        with torch.no_grad():\n",
    "            global_weights = global_model.state_dict()\n",
    "            for key in global_weights:\n",
    "                global_weights[key] = torch.stack([client_models[i].state_dict()[key]\n",
    "                                                for i in range(len(client_data))]).mean(0)\n",
    "            global_model.load_state_dict(global_weights)\n",
    "            for client_model in client_models:\n",
    "                client_model.load_state_dict(global_weights)  # Distribute back\n",
    "\n",
    "        # Evaluation (Compute losses and metrics ONLY ONCE per round)\n",
    "        with torch.no_grad():\n",
    "            combined_edge_index = torch.cat([build_edge_index(client_data[i]) for i in range(len(client_data)) if build_edge_index(client_data[i]).shape[1]!=0], dim=1) # Combine data from non-empty clients\n",
    "            if combined_edge_index.shape[1]==0: # Handle case where all clients have empty data\n",
    "                print(\"No data available to combined_edge_index this round, skipping evaluation.\")\n",
    "                continue\n",
    "\n",
    "            val_loss, recall, precision, ndcg = evaluation(global_model, combined_edge_index, [], k, lambda_val)\n",
    "\n",
    "            val_losses.append(val_loss)  # Append ONE loss per round\n",
    "\n",
    "            val_recalls.append(recall)\n",
    "            val_precisions.append(precision)\n",
    "            val_ndcgs.append(ndcg)\n",
    "            print(f\"Round {round_num + 1} Global Metrics: test_loss={test_loss:.4f}, \"\n",
    "                f\"recall@{k}={recall:.4f}, precision@{k}={precision:.4f}, ndcg@{k}={ndcg:.4f}\")\n",
    "\n",
    "\n",
    "    # After federated learning is complete\n",
    "    plot_training_loss(train_losses, val_losses, num_rounds, local_epochs)\n",
    "    plot_metrics(val_recalls, val_precisions, val_ndcgs, k, num_rounds)\n",
    "    return global_model\n",
    "\n",
    "\n",
    "def build_edge_index(df):\n",
    "    return convert_r_mat_edge_index_to_adj_mat_edge_index(\n",
    "        torch.LongTensor(load_edge_csv(df, 'userId', 'movieId', 'rating', rating_threshold=3.5))\n",
    "    )\n",
    "\n",
    "\n",
    "def create_batches(edge_index, batch_size):\n",
    "    num_edges = edge_index.shape[1]\n",
    "    for start in range(0, num_edges, batch_size):\n",
    "        end = min(start + batch_size, num_edges)\n",
    "        yield edge_index[:, start:end]\n",
    "\n",
    "\n",
    "# Federated learning functions (create_non_iid_partitions, federated_learning, build_edge_index, create_batches)\n",
    "\n",
    "# Example usage:\n",
    "NUM_CLIENTS = 5\n",
    "CLIENT_DATA = create_non_iid_partitions(rating_df, NUM_CLIENTS)\n",
    "\n",
    "\n",
    "# Create and train the federated model\n",
    "federated_model = federated_learning(model, CLIENT_DATA, num_rounds=5, local_epochs=5,\n",
    "                                    batch_size=BATCH_SIZE, lr=LR, lambda_val=LAMBDA, k=K)\n"
   ],
   "id": "c4be6ebbd6e93133"
  },
  {
   "metadata": {
    "ExecuteTime": {
     "end_time": "2025-01-12T21:22:31.101727Z",
     "start_time": "2025-01-12T21:22:31.098652Z"
    }
   },
   "cell_type": "code",
   "source": [
    "def sample_mini_batch(batch_size, edge_index):\n",
    "    \"\"\"Randomly samples indices of a minibatch given an adjacency matrix\n",
    "\n",
    "    Args:\n",
    "        batch_size (int): minibatch size\n",
    "        edge_index (torch.Tensor): 2 by N list of edges\n",
    "\n",
    "    Returns:\n",
    "        tuple: user indices, positive item indices, negative item indices\n",
    "    \"\"\"\n",
    "    num_pos_edges = edge_index.shape[1]\n",
    "    if num_pos_edges == 0:  # Check for empty edge index\n",
    "        # Handle empty case (e.g., return empty tensors)\n",
    "        return torch.LongTensor([]), torch.LongTensor([]), torch.LongTensor([])\n",
    "\n",
    "    edges = structured_negative_sampling(edge_index)\n",
    "    edges = torch.stack(edges, dim=0)\n",
    "\n",
    "    # Ensure batch size doesn't exceed available positive edges\n",
    "    batch_size = min(batch_size, num_pos_edges)  # Crucial change!\n",
    "\n",
    "    indices = random.choices([i for i in range(edges[0].shape[0])], k=batch_size)\n",
    "    batch = edges[:, indices]\n",
    "    user_indices, pos_item_indices, neg_item_indices = batch[0], batch[1], batch[2]\n",
    "    return user_indices, pos_item_indices, neg_item_indices"
   ],
   "id": "32bdd192340cbcfa",
   "outputs": [],
   "execution_count": 106
  },
  {
   "metadata": {
    "ExecuteTime": {
     "end_time": "2025-01-12T21:40:15.071352Z",
     "start_time": "2025-01-12T21:40:15.067208Z"
    }
   },
   "cell_type": "code",
   "source": [
    "import matplotlib.pyplot as plt\n",
    "\n",
    "def plot_training_loss(train_losses, val_losses, num_rounds, local_epochs):\n",
    "    \"\"\"Plots the training loss.\"\"\"\n",
    "    epochs = range(len(train_losses))    # x axis corresponds to each local epoch, len(train_losses)\n",
    "    rounds = range(0, len(train_losses), local_epochs//NUM_CLIENTS) # Correct calculation\n",
    "\n",
    "    plt.plot(epochs, train_losses, label='Training Loss')  # training loss is per epoch\n",
    "    plt.plot(rounds, val_losses, label='Validation Loss')  # validation loss is per round\n",
    "    plt.xlabel('Epoch')\n",
    "    plt.ylabel('Loss')\n",
    "    plt.title('Training and Validation Loss')\n",
    "    plt.legend()\n",
    "    plt.show()\n",
    "\n",
    "\n",
    "\n",
    "def plot_metrics(recall_list, precision_list, ndcg_list, k, num_rounds):\n",
    "    \"\"\"Plots the recall, precision, and NDCG metrics.\"\"\"\n",
    "    rounds = [i for i in range(1, num_rounds + 1)]  # rounds not epoch\n",
    "    plt.plot(rounds, recall_list, label=f'Recall@{k}')\n",
    "    plt.plot(rounds, precision_list, label=f'Precision@{k}')\n",
    "    plt.plot(rounds, ndcg_list, label=f'NDCG@{k}')\n",
    "    plt.xlabel('Round')  # rounds not epoch\n",
    "    plt.ylabel('Metric Value')\n",
    "    plt.title('Evaluation Metrics')\n",
    "    plt.legend()\n",
    "    plt.show()"
   ],
   "id": "f07ef6d17c2e84a",
   "outputs": [],
   "execution_count": 112
  },
  {
   "metadata": {},
   "cell_type": "code",
   "outputs": [],
   "execution_count": null,
   "source": "",
   "id": "d76ca8f8b3c9dd44"
  }
 ],
 "metadata": {
  "kernelspec": {
   "display_name": "Python 3",
   "language": "python",
   "name": "python3"
  },
  "language_info": {
   "codemirror_mode": {
    "name": "ipython",
    "version": 2
   },
   "file_extension": ".py",
   "mimetype": "text/x-python",
   "name": "python",
   "nbconvert_exporter": "python",
   "pygments_lexer": "ipython2",
   "version": "2.7.6"
  }
 },
 "nbformat": 4,
 "nbformat_minor": 5
}
